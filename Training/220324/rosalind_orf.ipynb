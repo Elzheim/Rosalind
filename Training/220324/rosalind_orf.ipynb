{
 "cells": [
  {
   "cell_type": "code",
   "execution_count": 1,
   "metadata": {},
   "outputs": [],
   "source": [
    "import csv\n",
    "\n",
    "with open('rosalind_orf.txt','r', encoding='utf-8') as data:\n",
    "    ori = data.read()\n",
    "\n",
    "with open('RNA_table.csv','r', encoding='utf-8') as table : \n",
    "    transfer = csv.reader(table)\n",
    "    RNA_table = {row[0].strip():row[1].strip() for row in transfer}\n",
    "\n",
    "ori = ori.split('\\n')\n",
    "dna = ''.join(ori[1:])"
   ]
  },
  {
   "cell_type": "code",
   "execution_count": 9,
   "metadata": {},
   "outputs": [],
   "source": [
    "class dna2aa :\n",
    "    def __init__(self, dna:str, table:dict):\n",
    "        self.dna = dna\n",
    "        self.rna = dna2aa.dna2rna(self.dna)\n",
    "        self.table = table\n",
    "        self.aa = dna2aa.rna2aa(self.rna, self.table)\n",
    "    \n",
    "    def dna2rna(dna:str):\n",
    "        nuc = ['A','C','G','T']\n",
    "        data = dna\n",
    "        \n",
    "        for i in range(len(nuc)):\n",
    "            data = data.replace(nuc[i],str(i))\n",
    "        data = list(data)\n",
    "        data = list(reversed(data))\n",
    "        data = ''.join(data)\n",
    "        nuc = list(reversed(nuc))\n",
    "        nuc[0] = 'U'\n",
    "        for i in range(len(nuc)):\n",
    "            data = data.replace(str(i),nuc[i])\n",
    "        return data\n",
    "\n",
    "    def codonizer(code:str):\n",
    "        codon = [code[i*3:i*3+3] for i in range(len(code)//3)]\n",
    "        return codon\n",
    "\n",
    "    def searcher(data:str):\n",
    "        start_index = data.find('AUG')\n",
    "        codon_list = dna2aa.codonizer(data[start_index:])\n",
    "        end_codon = ['UAA','UAG','UGA']\n",
    "        end_index = []\n",
    "        for end in end_codon:\n",
    "            if end in codon_list : \n",
    "                end_list = codon_list.index(end)\n",
    "                end_index.append(end_list)\n",
    "        end_index = min(end_index)\n",
    "        wasted = ''.join(codon_list[end_index+1:])\n",
    "        return wasted, codon_list[0:end_index]\n",
    "    \n",
    "    def rna2aa(rna:str,table:dict):\n",
    "        aa = []\n",
    "        rna, code = dna2aa.searcher(rna)\n",
    "        aa_code = [table.get(codon) for codon in code]\n",
    "        aa_code = ''.join(aa_code)\n",
    "        aa.append(aa_code)\n",
    "        aa = '\\n'.join(aa)\n",
    "        return aa"
   ]
  },
  {
   "cell_type": "code",
   "execution_count": null,
   "metadata": {},
   "outputs": [],
   "source": [
    "class ORF :\n",
    "\tdef __init__(self, dna:str, table:dict):\n",
    "\t\tself.dna = dna\n",
    "\t\tself.table = table\n",
    "\t\n",
    "\tdef ReverseTemp(code:str):\n",
    "\t\tdna = code\n",
    "\t\tnc = ['A','C','G','T']\n",
    "\t\tfor i in range(len(nc)):\n",
    "\t\t\tdna_T = dna.replace(nc[i],str[i])\n",
    "\t\tnc = nc[::-1]\n",
    "\t\tfor i in range(len(nc)):\n",
    "\t\t\tdna_T = dna_T.replace(str[i],nc[i])\n",
    "\t\tdna_T = dna_T[::-1]\n",
    "\t\tprint(dna_T)\n",
    "\t\treturn [dna, dna_T]\n",
    "\n",
    "\tdef start(rna:str):\n",
    "\t\tstart = rna.find('AUG')\n",
    "\n",
    "\tdef main(self):\n",
    "\t\tbase_dna = self.dna\n",
    "\t\t# ssDNA를 dsDNA로 바꿔주기\n",
    "\t\tds_dna = ORF.ReverseTemp(base_dna)\n",
    "\t\tfor dna in ds_dna:\n",
    "\t\t\trna = dna.replace('T','U')\n",
    "\t\t\twhile 'AUG' in dna:\n",
    "\t\t\t\t"
   ]
  },
  {
   "cell_type": "code",
   "execution_count": 13,
   "metadata": {},
   "outputs": [],
   "source": [
    "small_sample = 'AGCCATGTAGCTAACTCAGGTTACATGGGGATGACCCCGCGACTTGGATTAGAGTCTCTTTTGGAATAAGCCTGAATGATCCGAGTAGCATCTCAG'"
   ]
  },
  {
   "cell_type": "code",
   "execution_count": 16,
   "metadata": {},
   "outputs": [
    {
     "name": "stdout",
     "output_type": "stream",
     "text": [
      "GACTCTACGATGAGCCTAGTAAGTCCGAATAAGGTTTTCTCTGAGATTAGGTTCAGCGCCCCAGTAGGGGTACATTGGACTCAATCGATGTACCGA\n"
     ]
    }
   ],
   "source": [
    "small_temp = small_sample[::-1]\n",
    "print(small_temp)"
   ]
  }
 ],
 "metadata": {
  "interpreter": {
   "hash": "5afcfad46fb57ec153722ac332a8954ea84a7fa29f2be3830b069362045ae535"
  },
  "kernelspec": {
   "display_name": "Python 3.10.1 64-bit",
   "language": "python",
   "name": "python3"
  },
  "language_info": {
   "codemirror_mode": {
    "name": "ipython",
    "version": 3
   },
   "file_extension": ".py",
   "mimetype": "text/x-python",
   "name": "python",
   "nbconvert_exporter": "python",
   "pygments_lexer": "ipython3",
   "version": "3.10.3"
  },
  "orig_nbformat": 4
 },
 "nbformat": 4,
 "nbformat_minor": 2
}
