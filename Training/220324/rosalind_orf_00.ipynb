{
 "cells": [
  {
   "cell_type": "code",
   "execution_count": 37,
   "metadata": {},
   "outputs": [
    {
     "name": "stdout",
     "output_type": "stream",
     "text": [
      "ATAACAACCTGGAATGGGAGTTGGCACCAGCAATGCCACATCGCTACTGTCTTGTATTGGCATTTGCTAGTGGATCCGCACAGTGGGCAACGGCACGTATAGGAGGAAGTTTCACTCTATGTCAGTCAAAAATGCATCCCTACCCTGCCCCGGCCTTAGGAATGTGTGTTCCCGAACTGGGGAGTGCCATACATCATTAAGGTGTACTACGCTCCATGCTCAGGCAGGTGTACACGATCTCTCGGATGATCCAAGTTTAGTTCGCACGTGCAATATAAGGTCAATTTAGACACTGGCTTTTGCTATTCCCTGTTCTCCGGGCTCCGGGGGCCATGCACATTCCATCGATTTGGCAGAGCTTATTGTCTCAGAGCGTTGCCCTAGTCATAAAACCTCACTATATACCGATGCTCCTCCTGCTAGGATAGCTATCCTAGCAGGAGGAGCATCTCAACGGTTTAACTCGCATGCCACTTGGCTCACGAATTTACTATGACGACAATCCAGAGTCGCCGCGTACGTCCCTACCGGCCGCCCTAGGTGAATTGCCTGGTTTTCAATCCCAACCCTGACCCAGACCCGCTCGTCGTGATCTTTACACCGGCCGTGTATGGACCTTCCTTTTAGTCATGAATCTCCAGTGTGCCGACGGACTCCCAAGTTCTCCCACGAGAAGCCTGATGGCGGAGTAAAAGCTAAGCCATCGGTGCATTCATAATCGTGAGAATTGCTCATTCCCCTCGCTAGACGTTCTTCCTCGTTCGCCCAGTCTATGGAATGTCTTGTGAGGACCTTCGTTCCTTAGCACAGTGCGTGTGCCTCCGAGCACATCTCTTCTGTTATAGTTCTGTCTCTG\n",
      "{'UUU': 'F', 'UUC': 'F', 'UUA': 'L', 'UUG': 'L', 'UCU': 'S', 'UCC': 'S', 'UCA': 'S', 'UCG': 'S', 'UAU': 'Y', 'UAC': 'Y', 'UAA': 'Stop', 'UAG': 'Stop', 'UGU': 'C', 'UGC': 'C', 'UGA': 'Stop', 'UGG': 'W', 'CUU': 'L', 'CUC': 'L', 'CUA': 'L', 'CUG': 'L', 'CCU': 'P', 'CCC': 'P', 'CCA': 'P', 'CCG': 'P', 'CAU': 'H', 'CAC': 'H', 'CAA': 'Q', 'CAG': 'Q', 'CGU': 'R', 'CGC': 'R', 'CGA': 'R', 'CGG': 'R', 'AUU': 'I', 'AUC': 'I', 'AUA': 'I', 'AUG': 'M', 'ACU': 'T', 'ACC': 'T', 'ACA': 'T', 'ACG': 'T', 'AAU': 'N', 'AAC': 'N', 'AAA': 'K', 'AAG': 'K', 'AGU': 'S', 'AGC': 'S', 'AGA': 'R', 'AGG': 'R', 'GUU': 'V', 'GUC': 'V', 'GUA': 'V', 'GUG': 'V', 'GCU': 'A', 'GCC': 'A', 'GCA': 'A', 'GCG': 'A', 'GAU': 'D', 'GAC': 'D', 'GAA': 'E', 'GAG': 'E', 'GGU': 'G', 'GGC': 'G', 'GGA': 'G', 'GGG': 'G'}\n"
     ]
    }
   ],
   "source": [
    "import csv\n",
    "import numpy as np\n",
    "\n",
    "with open('rosalind_orf.txt','r', encoding='utf-8') as data:\n",
    "    ori = data.read()\n",
    "\n",
    "with open('RNA_table.csv','r', encoding='utf-8') as table : \n",
    "    transfer = csv.reader(table)\n",
    "    RNA_table = {row[0].strip():row[1].strip() for row in transfer}\n",
    "\n",
    "ori = ori.split('\\n')\n",
    "dna = ''.join(ori[1:])\n",
    "print(dna)\n",
    "print(RNA_table)"
   ]
  },
  {
   "cell_type": "code",
   "execution_count": 38,
   "metadata": {},
   "outputs": [],
   "source": [
    "def conv(data : str):\n",
    "    nuc = ['A','C','G','T']\n",
    "    for i in range(len(nuc)):\n",
    "        data = data.replace(nuc[i],str(i))\n",
    "    data = list(data)\n",
    "    data = list(reversed(data))\n",
    "    data = ''.join(data)\n",
    "    nuc = list(reversed(nuc))\n",
    "    for i in range(len(nuc)):\n",
    "        data = data.replace(str(i),nuc[i])\n",
    "    return data"
   ]
  },
  {
   "cell_type": "code",
   "execution_count": 39,
   "metadata": {},
   "outputs": [],
   "source": [
    "def startend(data:str):\n",
    "    start_index = data.find('AUG')\n",
    "    target_A = data[start_index:]\n",
    "    codon = [target_A[i:i+3] for i in range(len(target_A)//3)]\n",
    "    end_code = ['UAG','UAA','UGA']\n",
    "    end_index = []\n",
    "    for ends in end_code:\n",
    "        end_index.append(codon.index(ends))\n",
    "    end_index = min(end_index)\n",
    "\n",
    "    return [start_index, end_index]\n",
    "\n"
   ]
  },
  {
   "cell_type": "code",
   "execution_count": 40,
   "metadata": {},
   "outputs": [],
   "source": [
    "def rna2aa(rna:str,index:list,table :dict) :\n",
    "    start, end = index[0], index[1]\n",
    "    target = rna[start:end]\n",
    "    rna = rna[end+2:]\n",
    "    sites = len(target)//3\n",
    "    codons = [target[i:i+3] for i in range(sites)]\n",
    "    aa_code = []\n",
    "    for codon in codons :\n",
    "        aa_code.append(table.get(codon))\n",
    "    aa_code = ''.join(aa_code)\n",
    "    return rna, aa_code"
   ]
  },
  {
   "cell_type": "code",
   "execution_count": 41,
   "metadata": {},
   "outputs": [
    {
     "name": "stdout",
     "output_type": "stream",
     "text": [
      "CAGAGACAGAACUAUAACAGAAGAGAUGUGCUCGGAGGCACACGCACUGUGCUAAGGAACGAAGGUCCUCACAAGACAUUCCAUAGACUGGGCGAACGAGGAAGAACGUCUAGCGAGGGGAAUGAGCAAUUCUCACGAUUAUGAAUGCACCGAUGGCUUAGCUUUUACUCCGCCAUCAGGCUUCUCGUGGGAGAACUUGGGAGUCCGUCGGCACACUGGAGAUUCAUGACUAAAAGGAAGGUCCAUACACGGCCGGUGUAAAGAUCACGACGAGCGGGUCUGGGUCAGGGUUGGGAUUGAAAACCAGGCAAUUCACCUAGGGCGGCCGGUAGGGACGUACGCGGCGACUCUGGAUUGUCGUCAUAGUAAAUUCGUGAGCCAAGUGGCAUGCGAGUUAAACCGUUGAGAUGCUCCUCCUGCUAGGAUAGCUAUCCUAGCAGGAGGAGCAUCGGUAUAUAGUGAGGUUUUAUGACUAGGGCAACGCUCUGAGACAAUAAGCUCUGCCAAAUCGAUGGAAUGUGCAUGGCCCCCGGAGCCCGGAGAACAGGGAAUAGCAAAAGCCAGUGUCUAAAUUGACCUUAUAUUGCACGUGCGAACUAAACUUGGAUCAUCCGAGAGAUCGUGUACACCUGCCUGAGCAUGGAGCGUAGUACACCUUAAUGAUGUAUGGCACUCCCCAGUUCGGGAACACACAUUCCUAAGGCCGGGGCAGGGUAGGGAUGCAUUUUUGACUGACAUAGAGUGAAACUUCCUCCUAUACGUGCCGUUGCCCACUGUGCGGAUCCACUAGCAAAUGCCAAUACAAGACAGUAGCGAUGUGGCAUUGCUGGUGCCAACUCCCAUUCCAGGUUGUUAU\n"
     ]
    }
   ],
   "source": [
    "dna_tmp = conv(dna)\n",
    "rna = dna_tmp.replace('T','U')\n",
    "print(rna)"
   ]
  },
  {
   "cell_type": "code",
   "execution_count": 42,
   "metadata": {},
   "outputs": [
    {
     "name": "stdout",
     "output_type": "stream",
     "text": [
      "25\n"
     ]
    }
   ],
   "source": [
    "start_index = rna.find('AUG')\n",
    "\n",
    "print(start_index)"
   ]
  },
  {
   "cell_type": "code",
   "execution_count": 43,
   "metadata": {},
   "outputs": [
    {
     "name": "stdout",
     "output_type": "stream",
     "text": [
      "[14, 83, 122]\n"
     ]
    }
   ],
   "source": [
    "end_codon = ['UAG','UGA','UAA']\n",
    "ends = []\n",
    "for end in end_codon:\n",
    "    ends.append(rna.find(end))\n",
    "print(sorted(ends))"
   ]
  },
  {
   "cell_type": "code",
   "execution_count": 44,
   "metadata": {},
   "outputs": [
    {
     "name": "stdout",
     "output_type": "stream",
     "text": [
      "[25, 27]\n"
     ]
    }
   ],
   "source": [
    "start_end = startend(rna)\n",
    "print(start_end)\n"
   ]
  },
  {
   "cell_type": "code",
   "execution_count": 45,
   "metadata": {},
   "outputs": [
    {
     "name": "stdout",
     "output_type": "stream",
     "text": [
      "[25, 27]\n",
      "[92, 1]\n",
      "[89, 1]\n",
      "\t\t\t"
     ]
    }
   ],
   "source": [
    "i = 1\n",
    "aa_list = []\n",
    "while i<4:\n",
    "    start_end =startend(rna)\n",
    "    print(start_end)\n",
    "    rna, aa = rna2aa(rna,start_end,RNA_table)\n",
    "    aa_list.append(aa)\n",
    "    i+=1\n",
    "\n",
    "for part in aa_list :\n",
    "    print(part, end ='\\t')"
   ]
  }
 ],
 "metadata": {
  "interpreter": {
   "hash": "5afcfad46fb57ec153722ac332a8954ea84a7fa29f2be3830b069362045ae535"
  },
  "kernelspec": {
   "display_name": "Python 3.10.1 64-bit",
   "language": "python",
   "name": "python3"
  },
  "language_info": {
   "codemirror_mode": {
    "name": "ipython",
    "version": 3
   },
   "file_extension": ".py",
   "mimetype": "text/x-python",
   "name": "python",
   "nbconvert_exporter": "python",
   "pygments_lexer": "ipython3",
   "version": "3.10.1"
  },
  "orig_nbformat": 4
 },
 "nbformat": 4,
 "nbformat_minor": 2
}
